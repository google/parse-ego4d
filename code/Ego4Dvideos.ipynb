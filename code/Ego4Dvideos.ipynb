{
 "cells": [
  {
   "cell_type": "code",
   "execution_count": null,
   "metadata": {},
   "outputs": [],
   "source": [
    "# Copyright 2017 The PARSE-ego4D Authors. All Rights Reserved.\n",
    "#\n",
    "# Licensed under the Apache License, Version 2.0 (the \"License\");\n",
    "# you may not use this file except in compliance with the License.\n",
    "# You may obtain a copy of the License at\n",
    "#\n",
    "#     http://www.apache.org/licenses/LICENSE-2.0\n",
    "#\n",
    "# Unless required by applicable law or agreed to in writing, software\n",
    "# distributed under the License is distributed on an \"AS IS\" BASIS,\n",
    "# WITHOUT WARRANTIES OR CONDITIONS OF ANY KIND, either express or implied.\n",
    "# See the License for the specific language governing permissions and\n",
    "# limitations under the License."
   ]
  },
  {
   "cell_type": "code",
   "execution_count": null,
   "metadata": {
    "id": "zp6bWGOcgO4f"
   },
   "outputs": [],
   "source": [
    "def load_spreadsheet(end_idx=None):\n",
    "  pass\n",
    "\n",
    "def load_ego4d_narration_data():\n",
    "  pass\n",
    "\n",
    "def copy_ego4d_video_to_local(remove_video_path, local_video_path):\n",
    "  pass\n",
    "\n",
    "def get_video_file_size_mb(video_id):\n",
    "  pass\n",
    "\n",
    "def get_video_duration_from_video_id(video_id):\n",
    "  pass\n",
    "\n",
    "def get_processed_video_fnames():\n",
    "  pass\n",
    "\n",
    "def save_local_file_to_drive(local_video_path, local_video_fname):\n",
    "  pass"
   ]
  },
  {
   "cell_type": "code",
   "execution_count": null,
   "metadata": {
    "id": "qaVyVzY-3r-Z"
   },
   "outputs": [],
   "source": [
    "from functools import partial\n",
    "from tqdm.notebook import tqdm\n",
    "import cv2\n",
    "import json\n",
    "import numpy as np\n",
    "import os\n",
    "\n",
    "########################################################\n",
    "## Loading data\n",
    "########################################################\n",
    "\n",
    "def load_data(end_idx=None):\n",
    "  \"\"\"Return a pandas dataframe with the Ego4D suggestion data.\n",
    "  The dataframe should contain columns: Line, Video ID, Batch idx, Batch size.\n",
    "  \"\"\"\n",
    "  df = load_spreadsheet(end_idx=end_idx)\n",
    "  df = df[[\"Line\", \"Video ID\", \"Batch idx\", \"Batch size\"]]\n",
    "  df = df.drop_duplicates(subset=['Video ID', 'Line', 'Batch idx', 'Batch size'])\n",
    "  df = df.sort_values(by=['Video ID', 'Batch idx', 'Batch size', 'Line'], ascending=True).reset_index(drop=True)\n",
    "  return df\n",
    "\n",
    "\n",
    "def load_narration_data(df):\n",
    "  \"\"\"Return a dictionary of video ID -> array of sentence timestamps.\"\"\"\n",
    "  used_vids = set(df['Video ID'].unique())\n",
    "  ndata = load_ego4d_narration_data()\n",
    "  data = {}\n",
    "  for video_id in used_vids:\n",
    "    if \"narration_pass_1\" not in ndata[video_id] or \"narrations\" not in ndata[video_id][\"narration_pass_1\"]:\n",
    "      print(f\"Video ID: {video_id} failed. narrations not found.\")\n",
    "      continue\n",
    "    data[video_id] = np.array([e['timestamp_sec'] for e in ndata[video_id][\"narration_pass_1\"]['narrations']])\n",
    "  return data\n",
    "\n",
    "########################################################\n",
    "## Data processing and cleaning\n",
    "########################################################\n",
    "\n",
    "def add_timestamps(d, row):\n",
    "  vid = row['Video ID']\n",
    "\n",
    "  if row['Line'].strip() == \"\":\n",
    "    row[\"t_start\"] = None\n",
    "    row[\"t_end\"] = None\n",
    "    row[\"t_prestart\"] = None\n",
    "    return row\n",
    "\n",
    "  sentence_idx = int(row['Line']) + int(row['Batch idx']) * int(row['Batch size'])\n",
    "  if sentence_idx == d[vid].shape[0]:\n",
    "    sentence_idx -= 1\n",
    "  row[\"t_prestart\"] = d[vid][sentence_idx-1] if sentence_idx-1 >= 0 else None\n",
    "  row[\"t_start\"] = d[vid][sentence_idx]\n",
    "  row[\"t_end\"] = d[vid][sentence_idx+1] if sentence_idx+1 < d[vid].shape[0] else None\n",
    "  return row\n",
    "\n",
    "\n",
    "def add_file_size(row):\n",
    "  row['File size (MiB)'] = get_video_file_size_mb(row['Video ID'])\n",
    "  return row\n",
    "\n",
    "\n",
    "def add_video_duration(row):\n",
    "  video_id = row['Video ID']\n",
    "  row[\"Duration (sec)\"] = get_video_duration_from_video_id(video_id)\n",
    "  return row\n",
    "\n",
    "\n",
    "def add_start_end_video_trim(row):\n",
    "  # t_end is when the suggestion can be displayed. trim_end can be bigger than t_end.\n",
    "  ts = row['t_start']\n",
    "  te = row['t_end']\n",
    "  dur = te - ts\n",
    "  if dur < MIN_LENGTH:\n",
    "    ts = row['t_prestart']\n",
    "    if dur < MIN_LENGTH:\n",
    "      ts = max(0, te - MIN_LENGTH)\n",
    "      if dur < MIN_LENGTH:\n",
    "        # assuming here that every video must be at least ~2*MIN_LENGTH\n",
    "        te = ts + MIN_LENGTH\n",
    "  if dur > MAX_LENGTH:\n",
    "    ts = te - MAX_LENGTH\n",
    "\n",
    "  row['trim_start'] = ts\n",
    "  row['trim_end'] = te\n",
    "\n",
    "  return row\n",
    "\n",
    "\n",
    "def drop_problematic_timestamp_rows(df_, debug=True):\n",
    "  if debug:\n",
    "    print(f\"Starting with rows: {df_.shape[0]:>5}\")\n",
    "\n",
    "  # drop NaN timestamps\n",
    "  n_before = df_.shape[0]\n",
    "  df_ = df_.dropna(subset=['t_start', 't_end', 't_prestart'])\n",
    "  n_after = df_.shape[0]\n",
    "  if debug:\n",
    "    print(f\"Dropped {n_before-n_after:>5}, now: {n_after:>5} - removed all NaN timestamps\")\n",
    "\n",
    "  # drop t_start > t_end\n",
    "  n_before = df_.shape[0]\n",
    "  df_ = df_[df_['t_start'] < df_['t_end']]\n",
    "  n_after = df_.shape[0]\n",
    "  if debug:\n",
    "    print(f\"Dropped {n_before-n_after:>5}, now: {n_after:>5} - removed t_start > t_end\")\n",
    "\n",
    "  # drop t_prestart > t_start\n",
    "  n_before = df_.shape[0]\n",
    "  df_ = df_[df_['t_prestart'] < df_['t_start']]\n",
    "  n_after = df_.shape[0]\n",
    "  if debug:\n",
    "    print(f\"Dropped {n_before-n_after:>5}, now: {n_after:>5} - removed t_prestart > t_start\")\n",
    "  return df_\n",
    "\n",
    "########################################################\n",
    "## OpenCV video helpers\n",
    "########################################################\n",
    "\n",
    "def trim_video(source_path, output_path, t_start, t_end=None):\n",
    "  # Open the source video\n",
    "  cap = cv2.VideoCapture(source_path)\n",
    "\n",
    "  if not cap.isOpened():\n",
    "    print(\"Error: Could not open source video.\")\n",
    "    return False\n",
    "\n",
    "  fps = cap.get(cv2.CAP_PROP_FPS)\n",
    "  total_frames = cap.get(cv2.CAP_PROP_FRAME_COUNT)\n",
    "  width = int(cap.get(cv2.CAP_PROP_FRAME_WIDTH))\n",
    "  height = int(cap.get(cv2.CAP_PROP_FRAME_HEIGHT))\n",
    "\n",
    "  # Calculate the starting and ending frames\n",
    "  start_frame = int(t_start * fps)\n",
    "  end_frame = int(t_end * fps) if t_end is not None else int(total_frames)\n",
    "\n",
    "  # Define the codec and create a VideoWriter object\n",
    "  fourcc = cv2.VideoWriter_fourcc(*'mp4v') # You can change 'mp4v' to another codec if needed\n",
    "  out = cv2.VideoWriter(output_path, fourcc, fps, (width, height))\n",
    "\n",
    "  # Set the current video frame to the starting frame\n",
    "  cap.set(cv2.CAP_PROP_POS_FRAMES, start_frame)\n",
    "\n",
    "  for _ in range(start_frame, end_frame):\n",
    "    ret, frame = cap.read()\n",
    "    if not ret:\n",
    "      break  # End of video\n",
    "    out.write(frame)\n",
    "\n",
    "  # Release everything\n",
    "  cap.release()\n",
    "  out.release()\n",
    "\n",
    "  return True\n",
    "\n",
    "\n",
    "def get_video_duration(filename):\n",
    "  cap = cv2.VideoCapture(filename)\n",
    "  if not cap.isOpened():\n",
    "    print(\"Error: Could not open video.\")\n",
    "    cap.release()\n",
    "    return None\n",
    "  else:\n",
    "    n_frames = cap.get(cv2.CAP_PROP_FRAME_COUNT)\n",
    "    fps = cap.get(cv2.CAP_PROP_FPS)\n",
    "    duration_seconds = n_frames / fps\n",
    "    cap.release()\n",
    "    return duration_seconds"
   ]
  },
  {
   "cell_type": "code",
   "execution_count": null,
   "metadata": {
    "colab": {
     "height": 52
    },
    "executionInfo": {
     "elapsed": 49894,
     "status": "ok",
     "timestamp": 1712329032665,
     "user": {
      "displayName": "Steve Abreu",
      "userId": "09107865187543327732"
     },
     "user_tz": 240
    },
    "id": "4jv8Shx7dSkA",
    "outputId": "cd81f3f4-5b10-4bfe-a679-b0015a9ce78c"
   },
   "outputs": [
    {
     "name": "stdout",
     "output_type": "stream",
     "text": [
      "Beginning OAuth2 authorization process ...\n",
      "Authentication successful.\n"
     ]
    }
   ],
   "source": [
    "MIN_LENGTH = 5\n",
    "MAX_LENGTH = 20\n",
    "\n",
    "df = load_data(end_idx=None)\n",
    "d = load_narration_data(df)"
   ]
  },
  {
   "cell_type": "code",
   "execution_count": null,
   "metadata": {
    "executionInfo": {
     "elapsed": 43491,
     "status": "ok",
     "timestamp": 1712329076641,
     "user": {
      "displayName": "Steve Abreu",
      "userId": "09107865187543327732"
     },
     "user_tz": 240
    },
    "id": "jX6nAqFCipEq",
    "outputId": "5ec74462-e9eb-4ccc-a602-52a2ddb91478"
   },
   "outputs": [
    {
     "name": "stdout",
     "output_type": "stream",
     "text": [
      "Starting with rows: 13809\n",
      "Dropped   486, now: 13323 - removed all NaN timestamps\n",
      "Dropped   573, now: 12750 - removed t_start > t_end\n",
      "Dropped   523, now: 12227 - removed t_prestart > t_start\n"
     ]
    }
   ],
   "source": [
    "df = df.apply(partial(add_timestamps, d), axis=1)\n",
    "df = drop_problematic_timestamp_rows(df, debug=True)\n",
    "df = df.apply(add_start_end_video_trim, axis=1)\n",
    "if df.shape[0] < 200:\n",
    "  df = df.apply(add_file_size, axis=1)"
   ]
  },
  {
   "cell_type": "markdown",
   "metadata": {
    "id": "dS1VNx44iGiW"
   },
   "source": [
    "At this point, `t_end` is the time of the suggestion, and the video should be trimmed to `[trim_start : trim_end]`."
   ]
  },
  {
   "cell_type": "code",
   "execution_count": null,
   "metadata": {
    "executionInfo": {
     "elapsed": 54,
     "status": "ok",
     "timestamp": 1712329077014,
     "user": {
      "displayName": "Steve Abreu",
      "userId": "09107865187543327732"
     },
     "user_tz": 240
    },
    "id": "8H0qRxmAhXSH",
    "outputId": "45f4fe96-25dd-4c54-c10a-3904a8f9f4b2"
   },
   "outputs": [
    {
     "name": "stdout",
     "output_type": "stream",
     "text": [
      "Duration\n",
      "min = 5.00s, max = 20.00s\n",
      "median = 5.00s, mean = 6.92s, std = 4.25s\n",
      "Total: 23.49h for 12227 samples\n"
     ]
    }
   ],
   "source": [
    "duration = df['trim_end'] - df['trim_start']\n",
    "print(f\"Duration\")\n",
    "print(f\"min = {duration.min():.2f}s, max = {duration.max():.2f}s\")\n",
    "print(f\"median = {duration.median():.2f}s, mean = {duration.mean():.2f}s, std = {duration.std():.2f}s\")\n",
    "print(f\"Total: {duration.sum()/60/60:.2f}h for {df.shape[0]} samples\")"
   ]
  },
  {
   "cell_type": "markdown",
   "metadata": {
    "id": "Q7HQQmCYjFGx"
   },
   "source": [
    "Now, we iterate over the dataframe and trim the video for each sample. We store the trimmed video in a gdrive folder, and we name each trimmed video after the pattern `{video_id}-{line}-{batch_idx}-{batch_size}.mp4`. We don't write the video to the gdrive folder if a video with that file name already exists (there may be duplicates, we can reuse them)."
   ]
  },
  {
   "cell_type": "code",
   "execution_count": null,
   "metadata": {
    "id": "_8jv_qWw9IMm"
   },
   "outputs": [],
   "source": [
    "map_idx_to_file_id = {}\n",
    "map_idx_to_debug = {}\n",
    "video_items = get_processed_video_fnames()"
   ]
  },
  {
   "cell_type": "code",
   "execution_count": null,
   "metadata": {
    "executionInfo": {
     "elapsed": 56,
     "status": "ok",
     "timestamp": 1712330238757,
     "user": {
      "displayName": "Steve Abreu",
      "userId": "09107865187543327732"
     },
     "user_tz": 240
    },
    "id": "mH7nqiGmwzDz",
    "outputId": "195edabe-6fb2-4e00-bc4e-2d1d2bd3ac7c"
   },
   "outputs": [
    {
     "data": {
      "text/plain": [
       "(3420, (12227, 9))"
      ]
     },
     "execution_count": 6,
     "metadata": {},
     "output_type": "execute_result"
    }
   ],
   "source": [
    "len(video_items), df.shape"
   ]
  },
  {
   "cell_type": "code",
   "execution_count": null,
   "metadata": {
    "id": "oZsPnHWZhHzr"
   },
   "outputs": [],
   "source": [
    "remote_video_folder = \"/cns/li-d/home/ego4d-data/ego4d/v1/full_scale/\""
   ]
  },
  {
   "cell_type": "code",
   "execution_count": null,
   "metadata": {
    "colab": {
     "height": 49,
     "referenced_widgets": [
      "d0c049d9e53f4d0ba6e6f2f513fd6168",
      "e7f880a825a8477a9b422d5f8b89b389",
      "bfbd83385548436e89659a0da0b6ea36",
      "20d503705a4f4aacb3cd63e9f9ecdf8f",
      "1c7cb4ae9dba444589f29563b8a3f6e8",
      "70bc363d58ad4a0381267b3c04a28ce3",
      "584563ecdd13465ca536c0e19e281e47",
      "641a5887054b49f99e0e4eeebd1dc1dc",
      "ca577aa53bdd4637b7fccc24f19bef66",
      "0aaee09c87b64410be2a32d0909f5ac1",
      "90020e52261741df826c4e4b4a7a695e"
     ]
    },
    "id": "iaDZSFZ80Un1",
    "outputId": "ff6da7bc-1407-42b9-e517-0c21af246299"
   },
   "outputs": [
    {
     "data": {
      "application/vnd.jupyter.widget-view+json": {
       "model_id": "d0c049d9e53f4d0ba6e6f2f513fd6168",
       "version_major": 2,
       "version_minor": 0
      },
      "text/plain": [
       "Trimming videos:   0%|          | 0/12227 [00:00<?, ?it/s]"
      ]
     },
     "metadata": {},
     "output_type": "display_data"
    }
   ],
   "source": [
    "last_video_id = None\n",
    "tmp_folder = \"/tmp/ego4d/\"\n",
    "os.makedirs(tmp_folder, exist_ok=True)\n",
    "iterator = tqdm(df.iterrows(), total=df.shape[0], desc=\"Trimming videos\")\n",
    "\n",
    "for idx, row in iterator:\n",
    "  if idx not in map_idx_to_file_id:\n",
    "    video_id = row['Video ID']\n",
    "    # create filenames and paths\n",
    "    tmp_video_path = os.path.join(tmp_folder, f\"{video_id}.mp4\")\n",
    "    trimmed_fname = f\"{video_id}-{row['Line']}-{row['Batch idx']}-{row['Batch size']}.mp4\"\n",
    "    trimmed_tmp_video_path = os.path.join(tmp_folder, trimmed_fname)\n",
    "    remote_video_path = os.path.join(remote_video_folder, f\"{video_id}.mp4\")\n",
    "\n",
    "    # skip if file already exists in drive\n",
    "    if trimmed_fname in video_items:\n",
    "      continue\n",
    "\n",
    "    fsize_mib = get_video_file_size_mb(video_id)\n",
    "    fsize = f'{fsize_mib:4.0f} MiB'\n",
    "    if fsize_mib > 2_000:\n",
    "      map_idx_to_debug[idx] = f\"Video {video_id} is too large: {fsize}\"\n",
    "      continue\n",
    "    iterator.set_postfix_str(f\"{video_id.split('-')[0]} -- {row['Batch idx']:>2} @ {row['Line']:>3} ({fsize})\")\n",
    "\n",
    "    # release local disk space\n",
    "    if idx % 10 == 0:\n",
    "      for tmp_fname in os.listdir(tmp_folder):\n",
    "        if tmp_fname != f\"{video_id}.mp4\":\n",
    "          os.remove(os.path.join(tmp_folder, tmp_fname))\n",
    "    # remove previous video to free up disk space\n",
    "    if last_video_id is not None and last_video_id != video_id:\n",
    "      if os.path.exists(os.path.join(tmp_folder, f\"{last_video_id}.mp4\")):\n",
    "        os.remove(os.path.join(tmp_folder, f\"{last_video_id}.mp4\"))\n",
    "\n",
    "    # download new video and update pointer\n",
    "    if last_video_id is None or video_id != last_video_id:\n",
    "      copy_ego4d_video_to_local(remote_video_path, tmp_video_path)\n",
    "      last_video_id = video_id\n",
    "\n",
    "    # trim video\n",
    "    success = trim_video(source_path=tmp_video_path, output_path=trimmed_tmp_video_path, t_start=row['trim_start'], t_end=row['trim_end'])\n",
    "    if not success:\n",
    "      map_idx_to_debug[idx] = f\"Failed to trim video: row {idx}, {video_id} from {row['trim_start']} to {row['trim_end']}\\n\"\n",
    "      continue\n",
    "\n",
    "    # save trimmed video file to drive folder\n",
    "    try:\n",
    "      file_id = save_local_file_to_drive(trimmed_tmp_video_path, trimmed_fname)\n",
    "    except Exception as e:\n",
    "      map_idx_to_debug[idx] = f\"Failed to save file: row {idx}, {video_id} from {row['trim_start']} to {row['trim_end']}\\n{e}\\n\"\n",
    "      continue\n",
    "\n",
    "    # created a file on gdrive -> store file ID & remove local trimmed file\n",
    "    map_idx_to_file_id[idx] = file_id\n",
    "    if os.path.exists(trimmed_tmp_video_path):\n",
    "      os.remove(trimmed_tmp_video_path)"
   ]
  },
  {
   "cell_type": "code",
   "execution_count": null,
   "metadata": {
    "id": "4NJEPGqB2TTo"
   },
   "outputs": [],
   "source": []
  }
 ],
 "metadata": {
  "colab": {
   "last_runtime": {
    "build_target": "//learning/grp/tools/ml_python:ml_notebook",
    "kind": "private"
   },
   "provenance": [
    {
     "file_id": "1gbvSV3574xhGPAhBzWJbzire70ZCkQ_r",
     "timestamp": 1712341983586
    },
    {
     "file_id": "1Rr3_m-DQkYcFYWAaGaSk63MUIyfF2fmx",
     "timestamp": 1712340473020
    },
    {
     "file_id": "12DKk7HH18_tLC_rZ2VdKRSr8c9OcMv1r",
     "timestamp": 1710882039267
    },
    {
     "file_id": "1_XRPw0T6qvMb2AckTPZ2eT-EdKE0pfsj",
     "timestamp": 1710156094744
    },
    {
     "file_id": "/piper/depot/google3/learning/gemini/deployment/colab/multimodal_sax_tutorial.ipynb",
     "timestamp": 1700247341572
    },
    {
     "file_id": "/piper/depot/google3/learning/gemini/deployment/colab/multimodal_sax_tutorial.ipynb",
     "timestamp": 1691714567013
    },
    {
     "file_id": "/piper/depot/google3/learning/gemini/deployment/colab/multimodal_sax_tutorial.ipynb",
     "timestamp": 1686853328774
    },
    {
     "file_id": "1Sh6OqBhiGTCtElLCxPpCctczUZABtvhF",
     "timestamp": 1686148084741
    }
   ]
  },
  "kernelspec": {
   "display_name": "Python 3",
   "name": "python3"
  },
  "language_info": {
   "name": "python"
  },
  "widgets": {
   "application/vnd.jupyter.widget-state+json": {
    "0aaee09c87b64410be2a32d0909f5ac1": {
     "model_module": "@jupyter-widgets/base",
     "model_module_version": "1.2.0",
     "model_name": "LayoutModel",
     "state": {
      "_model_module": "@jupyter-widgets/base",
      "_model_module_version": "1.2.0",
      "_model_name": "LayoutModel",
      "_view_count": null,
      "_view_module": "@jupyter-widgets/base",
      "_view_module_version": "1.2.0",
      "_view_name": "LayoutView",
      "align_content": null,
      "align_items": null,
      "align_self": null,
      "border": null,
      "bottom": null,
      "display": null,
      "flex": null,
      "flex_flow": null,
      "grid_area": null,
      "grid_auto_columns": null,
      "grid_auto_flow": null,
      "grid_auto_rows": null,
      "grid_column": null,
      "grid_gap": null,
      "grid_row": null,
      "grid_template_areas": null,
      "grid_template_columns": null,
      "grid_template_rows": null,
      "height": null,
      "justify_content": null,
      "justify_items": null,
      "left": null,
      "margin": null,
      "max_height": null,
      "max_width": null,
      "min_height": null,
      "min_width": null,
      "object_fit": null,
      "object_position": null,
      "order": null,
      "overflow": null,
      "overflow_x": null,
      "overflow_y": null,
      "padding": null,
      "right": null,
      "top": null,
      "visibility": null,
      "width": null
     }
    },
    "1c7cb4ae9dba444589f29563b8a3f6e8": {
     "model_module": "@jupyter-widgets/base",
     "model_module_version": "1.2.0",
     "model_name": "LayoutModel",
     "state": {
      "_model_module": "@jupyter-widgets/base",
      "_model_module_version": "1.2.0",
      "_model_name": "LayoutModel",
      "_view_count": null,
      "_view_module": "@jupyter-widgets/base",
      "_view_module_version": "1.2.0",
      "_view_name": "LayoutView",
      "align_content": null,
      "align_items": null,
      "align_self": null,
      "border": null,
      "bottom": null,
      "display": null,
      "flex": null,
      "flex_flow": null,
      "grid_area": null,
      "grid_auto_columns": null,
      "grid_auto_flow": null,
      "grid_auto_rows": null,
      "grid_column": null,
      "grid_gap": null,
      "grid_row": null,
      "grid_template_areas": null,
      "grid_template_columns": null,
      "grid_template_rows": null,
      "height": null,
      "justify_content": null,
      "justify_items": null,
      "left": null,
      "margin": null,
      "max_height": null,
      "max_width": null,
      "min_height": null,
      "min_width": null,
      "object_fit": null,
      "object_position": null,
      "order": null,
      "overflow": null,
      "overflow_x": null,
      "overflow_y": null,
      "padding": null,
      "right": null,
      "top": null,
      "visibility": null,
      "width": null
     }
    },
    "20d503705a4f4aacb3cd63e9f9ecdf8f": {
     "model_module": "@jupyter-widgets/controls",
     "model_module_version": "1.5.0",
     "model_name": "HTMLModel",
     "state": {
      "_dom_classes": [],
      "_model_module": "@jupyter-widgets/controls",
      "_model_module_version": "1.5.0",
      "_model_name": "HTMLModel",
      "_view_count": null,
      "_view_module": "@jupyter-widgets/controls",
      "_view_module_version": "1.5.0",
      "_view_name": "HTMLView",
      "description": "",
      "description_tooltip": null,
      "layout": "IPY_MODEL_0aaee09c87b64410be2a32d0909f5ac1",
      "placeholder": "​",
      "style": "IPY_MODEL_90020e52261741df826c4e4b4a7a695e",
      "value": " 4717/12227 [2:47:04&lt;26:13:49, 12.57s/it, 71d19a2d --  0 @ 139 ( 635 MiB)]"
     }
    },
    "584563ecdd13465ca536c0e19e281e47": {
     "model_module": "@jupyter-widgets/controls",
     "model_module_version": "1.5.0",
     "model_name": "DescriptionStyleModel",
     "state": {
      "_model_module": "@jupyter-widgets/controls",
      "_model_module_version": "1.5.0",
      "_model_name": "DescriptionStyleModel",
      "_view_count": null,
      "_view_module": "@jupyter-widgets/base",
      "_view_module_version": "1.2.0",
      "_view_name": "StyleView",
      "description_width": ""
     }
    },
    "641a5887054b49f99e0e4eeebd1dc1dc": {
     "model_module": "@jupyter-widgets/base",
     "model_module_version": "1.2.0",
     "model_name": "LayoutModel",
     "state": {
      "_model_module": "@jupyter-widgets/base",
      "_model_module_version": "1.2.0",
      "_model_name": "LayoutModel",
      "_view_count": null,
      "_view_module": "@jupyter-widgets/base",
      "_view_module_version": "1.2.0",
      "_view_name": "LayoutView",
      "align_content": null,
      "align_items": null,
      "align_self": null,
      "border": null,
      "bottom": null,
      "display": null,
      "flex": null,
      "flex_flow": null,
      "grid_area": null,
      "grid_auto_columns": null,
      "grid_auto_flow": null,
      "grid_auto_rows": null,
      "grid_column": null,
      "grid_gap": null,
      "grid_row": null,
      "grid_template_areas": null,
      "grid_template_columns": null,
      "grid_template_rows": null,
      "height": null,
      "justify_content": null,
      "justify_items": null,
      "left": null,
      "margin": null,
      "max_height": null,
      "max_width": null,
      "min_height": null,
      "min_width": null,
      "object_fit": null,
      "object_position": null,
      "order": null,
      "overflow": null,
      "overflow_x": null,
      "overflow_y": null,
      "padding": null,
      "right": null,
      "top": null,
      "visibility": null,
      "width": null
     }
    },
    "70bc363d58ad4a0381267b3c04a28ce3": {
     "model_module": "@jupyter-widgets/base",
     "model_module_version": "1.2.0",
     "model_name": "LayoutModel",
     "state": {
      "_model_module": "@jupyter-widgets/base",
      "_model_module_version": "1.2.0",
      "_model_name": "LayoutModel",
      "_view_count": null,
      "_view_module": "@jupyter-widgets/base",
      "_view_module_version": "1.2.0",
      "_view_name": "LayoutView",
      "align_content": null,
      "align_items": null,
      "align_self": null,
      "border": null,
      "bottom": null,
      "display": null,
      "flex": null,
      "flex_flow": null,
      "grid_area": null,
      "grid_auto_columns": null,
      "grid_auto_flow": null,
      "grid_auto_rows": null,
      "grid_column": null,
      "grid_gap": null,
      "grid_row": null,
      "grid_template_areas": null,
      "grid_template_columns": null,
      "grid_template_rows": null,
      "height": null,
      "justify_content": null,
      "justify_items": null,
      "left": null,
      "margin": null,
      "max_height": null,
      "max_width": null,
      "min_height": null,
      "min_width": null,
      "object_fit": null,
      "object_position": null,
      "order": null,
      "overflow": null,
      "overflow_x": null,
      "overflow_y": null,
      "padding": null,
      "right": null,
      "top": null,
      "visibility": null,
      "width": null
     }
    },
    "90020e52261741df826c4e4b4a7a695e": {
     "model_module": "@jupyter-widgets/controls",
     "model_module_version": "1.5.0",
     "model_name": "DescriptionStyleModel",
     "state": {
      "_model_module": "@jupyter-widgets/controls",
      "_model_module_version": "1.5.0",
      "_model_name": "DescriptionStyleModel",
      "_view_count": null,
      "_view_module": "@jupyter-widgets/base",
      "_view_module_version": "1.2.0",
      "_view_name": "StyleView",
      "description_width": ""
     }
    },
    "bfbd83385548436e89659a0da0b6ea36": {
     "model_module": "@jupyter-widgets/controls",
     "model_module_version": "1.5.0",
     "model_name": "FloatProgressModel",
     "state": {
      "_dom_classes": [],
      "_model_module": "@jupyter-widgets/controls",
      "_model_module_version": "1.5.0",
      "_model_name": "FloatProgressModel",
      "_view_count": null,
      "_view_module": "@jupyter-widgets/controls",
      "_view_module_version": "1.5.0",
      "_view_name": "ProgressView",
      "bar_style": "",
      "description": "",
      "description_tooltip": null,
      "layout": "IPY_MODEL_641a5887054b49f99e0e4eeebd1dc1dc",
      "max": 12227,
      "min": 0,
      "orientation": "horizontal",
      "style": "IPY_MODEL_ca577aa53bdd4637b7fccc24f19bef66",
      "value": 4717
     }
    },
    "ca577aa53bdd4637b7fccc24f19bef66": {
     "model_module": "@jupyter-widgets/controls",
     "model_module_version": "1.5.0",
     "model_name": "ProgressStyleModel",
     "state": {
      "_model_module": "@jupyter-widgets/controls",
      "_model_module_version": "1.5.0",
      "_model_name": "ProgressStyleModel",
      "_view_count": null,
      "_view_module": "@jupyter-widgets/base",
      "_view_module_version": "1.2.0",
      "_view_name": "StyleView",
      "bar_color": null,
      "description_width": ""
     }
    },
    "d0c049d9e53f4d0ba6e6f2f513fd6168": {
     "model_module": "@jupyter-widgets/controls",
     "model_module_version": "1.5.0",
     "model_name": "HBoxModel",
     "state": {
      "_dom_classes": [],
      "_model_module": "@jupyter-widgets/controls",
      "_model_module_version": "1.5.0",
      "_model_name": "HBoxModel",
      "_view_count": null,
      "_view_module": "@jupyter-widgets/controls",
      "_view_module_version": "1.5.0",
      "_view_name": "HBoxView",
      "box_style": "",
      "children": [
       "IPY_MODEL_e7f880a825a8477a9b422d5f8b89b389",
       "IPY_MODEL_bfbd83385548436e89659a0da0b6ea36",
       "IPY_MODEL_20d503705a4f4aacb3cd63e9f9ecdf8f"
      ],
      "layout": "IPY_MODEL_1c7cb4ae9dba444589f29563b8a3f6e8"
     }
    },
    "e7f880a825a8477a9b422d5f8b89b389": {
     "model_module": "@jupyter-widgets/controls",
     "model_module_version": "1.5.0",
     "model_name": "HTMLModel",
     "state": {
      "_dom_classes": [],
      "_model_module": "@jupyter-widgets/controls",
      "_model_module_version": "1.5.0",
      "_model_name": "HTMLModel",
      "_view_count": null,
      "_view_module": "@jupyter-widgets/controls",
      "_view_module_version": "1.5.0",
      "_view_name": "HTMLView",
      "description": "",
      "description_tooltip": null,
      "layout": "IPY_MODEL_70bc363d58ad4a0381267b3c04a28ce3",
      "placeholder": "​",
      "style": "IPY_MODEL_584563ecdd13465ca536c0e19e281e47",
      "value": "Trimming videos:  36%"
     }
    }
   }
  }
 },
 "nbformat": 4,
 "nbformat_minor": 0
}
